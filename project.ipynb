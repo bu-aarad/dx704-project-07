{
  "cells": [
    {
      "cell_type": "markdown",
      "metadata": {
        "id": "Md413FzAvFD8"
      },
      "source": [
        "# DX 704 Week 7 Project\n",
        "\n",
        "This week's project will investigate issues in a quadcopter controller based using a linear quadratic regulator.\n",
        "You will start with an existing model of the system and logs from a quadcopter based on it, investigate discrepancies, and ultimately train a new model of the system dynamics."
      ]
    },
    {
      "cell_type": "markdown",
      "metadata": {
        "id": "PTIhFidP-KvD"
      },
      "source": [
        "The full project description and a template notebook are available on GitHub: [Project 7 Materials](https://github.com/bu-cds-dx704/dx704-project-07).\n"
      ]
    },
    {
      "cell_type": "markdown",
      "metadata": {
        "id": "52eGFDLZdsBy"
      },
      "source": [
        "## Example Code\n",
        "\n",
        "You may find it helpful to refer to these GitHub repositories of Jupyter notebooks for example code.\n",
        "\n",
        "* https://github.com/bu-cds-omds/dx601-examples\n",
        "* https://github.com/bu-cds-omds/dx602-examples\n",
        "* https://github.com/bu-cds-omds/dx603-examples\n",
        "* https://github.com/bu-cds-omds/dx704-examples\n",
        "\n",
        "Any calculations demonstrated in code examples or videos may be found in these notebooks, and you are allowed to copy this example code in your homework answers."
      ]
    },
    {
      "cell_type": "markdown",
      "metadata": {
        "id": "d7IKpQFK_AGF"
      },
      "source": [
        "## Introduction\n",
        "\n",
        "You've just joined a drone startup.\n",
        "On your first day, you join your new team to watch a test flight for a new quadcopter prototype.\n",
        "Watching the prototype fly, the team comments that it is not as smooth as usual and suspects that something is off in the controller.\n",
        "They provide you a copy of the dynamics model and log data from the prototype to investigate."
      ]
    },
    {
      "cell_type": "markdown",
      "metadata": {
        "id": "_Ks7EK6h3ktC"
      },
      "source": [
        "The quadcopter control model is a slightly more sophisticated version of the 1D quadcopter problem previously considered.\n",
        "\n",
        "The state vector $\\mathbf{x}_t$ now includes an acceleration component, and the action vector now has a servo control for the throttle instead of a raw force component.\n",
        "\\begin{array}{rcl}\n",
        "\\mathbf{x}_t & = & \\begin{bmatrix} x_t \\\\ v_t \\\\ a_t \\end{bmatrix} \\\\\n",
        "\\mathbf{u_t} & = & \\begin{bmatrix} u_t \\end{bmatrix}\n",
        "\\end{array}"
      ]
    },
    {
      "cell_type": "markdown",
      "metadata": {
        "id": "C8oSLkMqvMFF"
      },
      "source": [
        "## Part 1: Reconstruct the Control Matrix\n",
        "\n",
        "You are provided the dynamics model in the files `model-A.tsv`, `model-B.tsv`, `cost-Q.tsv` and `cost-R.tsv`.\n",
        "Recompute the control matrix $\\mathbf{K}$ to be used in the infinite horizon linear quadratic regulator problem."
      ]
    },
    {
      "cell_type": "code",
      "execution_count": null,
      "metadata": {
        "id": "Pdpurx_Ym3F6"
      },
      "outputs": [
        {
          "data": {
            "text/html": [
              "<div>\n",
              "<style scoped>\n",
              "    .dataframe tbody tr th:only-of-type {\n",
              "        vertical-align: middle;\n",
              "    }\n",
              "\n",
              "    .dataframe tbody tr th {\n",
              "        vertical-align: top;\n",
              "    }\n",
              "\n",
              "    .dataframe thead th {\n",
              "        text-align: right;\n",
              "    }\n",
              "</style>\n",
              "<table border=\"1\" class=\"dataframe\">\n",
              "  <thead>\n",
              "    <tr style=\"text-align: right;\">\n",
              "      <th></th>\n",
              "      <th>x</th>\n",
              "      <th>v</th>\n",
              "      <th>a</th>\n",
              "    </tr>\n",
              "  </thead>\n",
              "  <tbody>\n",
              "    <tr>\n",
              "      <th>u</th>\n",
              "      <td>0.33446</td>\n",
              "      <td>1.304454</td>\n",
              "      <td>1.858131</td>\n",
              "    </tr>\n",
              "  </tbody>\n",
              "</table>\n",
              "</div>"
            ],
            "text/plain": [
              "         x         v         a\n",
              "u  0.33446  1.304454  1.858131"
            ]
          },
          "metadata": {},
          "output_type": "display_data"
        }
      ],
      "source": [
        "# YOUR CHANGES HERE\n",
        "\n",
        "import numpy as np\n",
        "import pandas as pd\n",
        "\n",
        "def load_labeled_tsv(path):\n",
        "    df = pd.read_csv(path, sep=\"\\t\", header=None)\n",
        "    numeric = df.iloc[1:, 1:].astype(float).to_numpy()\n",
        "    col_labels = df.iloc[0, 1:].tolist()\n",
        "    row_labels = df.iloc[1:, 0].tolist()\n",
        "    return numeric, col_labels, row_labels\n",
        "\n",
        "# Load A, B, Q, R\n",
        "A, A_cols, A_rows = load_labeled_tsv(\"model-A.tsv\")\n",
        "B, B_cols, B_rows = load_labeled_tsv(\"model-B.tsv\")\n",
        "Q, Q_cols, Q_rows = load_labeled_tsv(\"cost-Q.tsv\")\n",
        "R, R_cols, R_rows = load_labeled_tsv(\"cost-R.tsv\")\n",
        "\n",
        "# Basic shape checks\n",
        "n = A.shape[0]\n",
        "assert A.shape == (n, n), \"A must be square\"\n",
        "assert B.shape[0] == n, \"B must have same number of rows as A\"\n",
        "assert Q.shape == (n, n), \"Q must be n×n\"\n",
        "assert R.shape[0] == B.shape[1] and R.shape[1] == B.shape[1], \"R must be m×m where m = inputs\"\n",
        "\n",
        "# Solve the discrete-time Algebraic Riccati Equation (DARE)\n",
        "# Use SciPy; otherwise fall back to simple fixed-point Riccati iteration.\n",
        "try:\n",
        "    from scipy.linalg import solve_discrete_are\n",
        "    P = solve_discrete_are(A, B, Q, R)\n",
        "except Exception:\n",
        "    # Fixed-point iteration (sufficient here since (A,B) is stabilizable & (Q^(1/2),A) detectable)\n",
        "    P = Q.copy()\n",
        "    for _ in range(10000):\n",
        "        BtPB = B.T @ P @ B\n",
        "        K_tmp = np.linalg.inv(R + BtPB) @ (B.T @ P @ A)\n",
        "        P_next = A.T @ P @ A - A.T @ P @ B @ np.linalg.inv(R + BtPB) @ B.T @ P @ A + Q\n",
        "        if np.linalg.norm(P_next - P, ord='fro') < 1e-10:\n",
        "            P = P_next\n",
        "            break\n",
        "        P = P_next\n",
        "\n",
        "# LQR gain: K = (R + B^T P B)^{-1} B^T P A\n",
        "K = np.linalg.inv(R + B.T @ P @ B) @ (B.T @ P @ A)\n",
        "\n",
        "# Pretty output with labels (rows: inputs, cols: states)\n",
        "K_df = pd.DataFrame(K, index=R_rows, columns=A_cols)\n",
        "display(K_df)"
      ]
    },
    {
      "cell_type": "markdown",
      "metadata": {
        "id": "BDS1s6W9m5G1"
      },
      "source": [
        "Save $\\mathbf{K}$ in a file \"control-K-intended.tsv\" with columns x, v and a."
      ]
    },
    {
      "cell_type": "code",
      "execution_count": 3,
      "metadata": {
        "id": "heCP8JhgnEIC"
      },
      "outputs": [
        {
          "name": "stdout",
          "output_type": "stream",
          "text": [
            "Saved control-K-intended.tsv\n"
          ]
        }
      ],
      "source": [
        "# YOUR CHANGES HERE\n",
        "\n",
        "K_df.to_csv(\"control-K-intended.tsv\", sep=\"\\t\")\n",
        "print(\"Saved control-K-intended.tsv\")"
      ]
    },
    {
      "cell_type": "markdown",
      "metadata": {
        "id": "emwSwtKjnG8y"
      },
      "source": [
        "Submit \"control-K-intended.tsv\" in Gradescope."
      ]
    },
    {
      "cell_type": "markdown",
      "metadata": {
        "id": "fqbtALHx_z7l"
      },
      "source": [
        "## Part 2: Recompute the Actions for the Logged States\n",
        "\n",
        "You get access to the log data for the prototype as the file \"qc-log.tsv\".\n",
        "It conveniently saves all the state and actions made.\n",
        "Recompute the actions based on your $\\mathbf{K}$ matrix computed in part 1."
      ]
    },
    {
      "cell_type": "code",
      "execution_count": 4,
      "metadata": {
        "id": "DsbCg2TjoFpp"
      },
      "outputs": [],
      "source": [
        "# YOUR CHANGES HERE\n",
        "\n",
        "import os\n",
        "import numpy as np\n",
        "import pandas as pd\n",
        "\n",
        "def load_labeled_tsv(path):\n",
        "    df = pd.read_csv(path, sep=\"\\t\", header=None)\n",
        "    numeric = df.iloc[1:, 1:].astype(float).to_numpy()\n",
        "    col_labels = df.iloc[0, 1:].tolist()\n",
        "    row_labels = df.iloc[1:, 0].tolist()\n",
        "    return numeric, col_labels, row_labels\n",
        "\n",
        "def compute_K_from_files():\n",
        "    # Fallback in case K.tsv isn't present\n",
        "    A, A_cols, _ = load_labeled_tsv(\"model-A.tsv\")\n",
        "    B, _, _ = load_labeled_tsv(\"model-B.tsv\")\n",
        "    Q, _, _ = load_labeled_tsv(\"cost-Q.tsv\")\n",
        "    R, _, _ = load_labeled_tsv(\"cost-R.tsv\")\n",
        "    try:\n",
        "        from scipy.linalg import solve_discrete_are\n",
        "        P = solve_discrete_are(A, B, Q, R)\n",
        "    except Exception:\n",
        "        # Simple fixed-point Riccati iteration\n",
        "        P = Q.copy()\n",
        "        for _ in range(10000):\n",
        "            BtPB = B.T @ P @ B\n",
        "            inv_term = np.linalg.inv(R + BtPB)\n",
        "            P_next = A.T @ P @ A - A.T @ P @ B @ inv_term @ B.T @ P @ A + Q\n",
        "            if np.linalg.norm(P_next - P, ord='fro') < 1e-10:\n",
        "                P = P_next\n",
        "                break\n",
        "            P = P_next\n",
        "    K = np.linalg.inv(R + B.T @ P @ B) @ (B.T @ P @ A)\n",
        "    return pd.DataFrame(K, index=[\"u\"], columns=A_cols)"
      ]
    },
    {
      "cell_type": "code",
      "execution_count": 5,
      "metadata": {},
      "outputs": [],
      "source": [
        "if os.path.exists(\"control-K-intended.tsv\"):\n",
        "    K_df = pd.read_csv(\"control-K-intended.tsv\", sep=\"\\t\", index_col=0)\n",
        "else:\n",
        "    K_df = compute_K_from_files()\n",
        "    K_df.to_csv(\"control-K-intended.tsv\", sep=\"\\t\")\n",
        "\n",
        "log = pd.read_csv(\"qc-log.tsv\", sep=\"\\t\")\n",
        "state_cols = list(K_df.columns)   # ensures we match K's column ordering (e.g., [\"x\",\"v\",\"a\"])\n",
        "X = log[state_cols].to_numpy().T  # shape (n, T)\n",
        "K = K_df.to_numpy()               # shape (m, n); here m = 1\n",
        "\n",
        "u_check = (-K @ X).flatten()"
      ]
    },
    {
      "cell_type": "markdown",
      "metadata": {
        "id": "6Z2gHEGBoIjL"
      },
      "source": [
        "Save your computed actions as \"qc-check.tsv\" with columns \"index\" and \"u_check\"."
      ]
    },
    {
      "cell_type": "code",
      "execution_count": 6,
      "metadata": {
        "id": "vbyMYtMLoS72"
      },
      "outputs": [
        {
          "name": "stdout",
          "output_type": "stream",
          "text": [
            "Saved \"qc-check.tsv\" with columns: index, u_check\n"
          ]
        },
        {
          "data": {
            "text/html": [
              "<div>\n",
              "<style scoped>\n",
              "    .dataframe tbody tr th:only-of-type {\n",
              "        vertical-align: middle;\n",
              "    }\n",
              "\n",
              "    .dataframe tbody tr th {\n",
              "        vertical-align: top;\n",
              "    }\n",
              "\n",
              "    .dataframe thead th {\n",
              "        text-align: right;\n",
              "    }\n",
              "</style>\n",
              "<table border=\"1\" class=\"dataframe\">\n",
              "  <thead>\n",
              "    <tr style=\"text-align: right;\">\n",
              "      <th></th>\n",
              "      <th>index</th>\n",
              "      <th>u_check</th>\n",
              "    </tr>\n",
              "  </thead>\n",
              "  <tbody>\n",
              "    <tr>\n",
              "      <th>0</th>\n",
              "      <td>0</td>\n",
              "      <td>1.672299</td>\n",
              "    </tr>\n",
              "    <tr>\n",
              "      <th>1</th>\n",
              "      <td>1</td>\n",
              "      <td>-1.152095</td>\n",
              "    </tr>\n",
              "    <tr>\n",
              "      <th>2</th>\n",
              "      <td>2</td>\n",
              "      <td>-1.235183</td>\n",
              "    </tr>\n",
              "    <tr>\n",
              "      <th>3</th>\n",
              "      <td>3</td>\n",
              "      <td>-0.288504</td>\n",
              "    </tr>\n",
              "    <tr>\n",
              "      <th>4</th>\n",
              "      <td>4</td>\n",
              "      <td>0.369202</td>\n",
              "    </tr>\n",
              "    <tr>\n",
              "      <th>5</th>\n",
              "      <td>5</td>\n",
              "      <td>0.430598</td>\n",
              "    </tr>\n",
              "    <tr>\n",
              "      <th>6</th>\n",
              "      <td>6</td>\n",
              "      <td>0.188644</td>\n",
              "    </tr>\n",
              "    <tr>\n",
              "      <th>7</th>\n",
              "      <td>7</td>\n",
              "      <td>-0.024803</td>\n",
              "    </tr>\n",
              "    <tr>\n",
              "      <th>8</th>\n",
              "      <td>8</td>\n",
              "      <td>-0.089025</td>\n",
              "    </tr>\n",
              "    <tr>\n",
              "      <th>9</th>\n",
              "      <td>9</td>\n",
              "      <td>-0.052384</td>\n",
              "    </tr>\n",
              "  </tbody>\n",
              "</table>\n",
              "</div>"
            ],
            "text/plain": [
              "   index   u_check\n",
              "0      0  1.672299\n",
              "1      1 -1.152095\n",
              "2      2 -1.235183\n",
              "3      3 -0.288504\n",
              "4      4  0.369202\n",
              "5      5  0.430598\n",
              "6      6  0.188644\n",
              "7      7 -0.024803\n",
              "8      8 -0.089025\n",
              "9      9 -0.052384"
            ]
          },
          "metadata": {},
          "output_type": "display_data"
        }
      ],
      "source": [
        "# YOUR CHANGES HERE\n",
        "\n",
        "qc_check = pd.DataFrame({\n",
        "    \"index\": log[\"index\"].astype(int).values,\n",
        "    \"u_check\": u_check\n",
        "})\n",
        "qc_check.to_csv(\"qc-check.tsv\", sep=\"\\t\", index=False)\n",
        "print('Saved \"qc-check.tsv\" with columns: index, u_check')\n",
        "display(qc_check.head(10))"
      ]
    },
    {
      "cell_type": "markdown",
      "metadata": {
        "id": "PDCUyNOfoUzm"
      },
      "source": [
        "Submit \"qc-check.tsv\" in Gradescope."
      ]
    },
    {
      "cell_type": "markdown",
      "metadata": {
        "id": "7Z20uZNHABA-"
      },
      "source": [
        "## Part 3: Reverse Engineer the Actual Control Matrix\n",
        "\n",
        "Now that you have found a systematic difference between your computed actions and the logged actions, estimate $\n",
        "$, the control matrix that was actually used to choose actions in the prototype."
      ]
    },
    {
      "cell_type": "markdown",
      "metadata": {
        "id": "lGoHdtel2iVm"
      },
      "source": [
        "Hint: With a linear quadratic regulator, the optimal actions are always linear combinations of the state that are calculated using the control matrix.\n",
        "You can use linear regression to reverse-engineer the coefficients in the control matrix."
      ]
    },
    {
      "cell_type": "code",
      "execution_count": null,
      "metadata": {
        "id": "Ab7XnMej21RN"
      },
      "outputs": [],
      "source": [
        "# YOUR CHANGES HERE\n",
        "\n",
        "def load_labeled_tsv(path):\n",
        "    df = pd.read_csv(path, sep=\"\\t\", header=None)\n",
        "    numeric = df.iloc[1:, 1:].astype(float).to_numpy()\n",
        "    col_labels = df.iloc[0, 1:].tolist()\n",
        "    row_labels = df.iloc[1:, 0].tolist()\n",
        "    return numeric, col_labels, row_labels\n",
        "\n"
      ]
    },
    {
      "cell_type": "code",
      "execution_count": null,
      "metadata": {},
      "outputs": [],
      "source": [
        "intended_path = \"control-K-intended.tsv\"\n",
        "if os.path.exists(intended_path):\n",
        "    intended_df = pd.read_csv(intended_path, sep=\"\\t\", header=None)\n",
        "    state_cols = intended_df.iloc[0, 1:].tolist()   # e.g., [\"x\",\"v\",\"a\"]\n",
        "    row_labels = intended_df.iloc[1:, 0].tolist()   # e.g., [\"u\"]\n",
        "else:\n",
        "    _, state_cols, _ = load_labeled_tsv(\"model-A.tsv\")\n",
        "    row_labels = [\"u\"]\n",
        "\n",
        "# Load the prototype log\n",
        "log = pd.read_csv(\"qc-log.tsv\", sep=\"\\t\")\n",
        "\n",
        "# Design matrix (states) and target (actions)\n",
        "X = log[state_cols].to_numpy()      # shape (N, n_states)\n",
        "y = log[\"u\"].to_numpy()             # shape (N,)\n",
        "\n",
        "# Linear regression WITHOUT intercept to recover u = K_actual x\n",
        "# This captures the control actually used by the prototype.\n",
        "coef, *_ = np.linalg.lstsq(X, y, rcond=None)   # coef shape (n_states,)\n",
        "K_actual = coef.reshape(1, -1)                  # shape (1, n_states)\n",
        "\n",
        "K_actual_df = pd.DataFrame(K_actual, index=row_labels, columns=state_cols)"
      ]
    },
    {
      "cell_type": "markdown",
      "metadata": {
        "id": "M7zG_6NT23fq"
      },
      "source": [
        "Save $\\mathbf{K}_{\\mathrm{actual}}$ in \"control-K-actual.tsv\" with the same format as \"control-K-intended.tsv\"."
      ]
    },
    {
      "cell_type": "code",
      "execution_count": 9,
      "metadata": {
        "id": "hPAaZI3M3DKB"
      },
      "outputs": [
        {
          "name": "stdout",
          "output_type": "stream",
          "text": [
            "Saved \"control-K-actual.tsv\"\n"
          ]
        },
        {
          "data": {
            "text/html": [
              "<div>\n",
              "<style scoped>\n",
              "    .dataframe tbody tr th:only-of-type {\n",
              "        vertical-align: middle;\n",
              "    }\n",
              "\n",
              "    .dataframe tbody tr th {\n",
              "        vertical-align: top;\n",
              "    }\n",
              "\n",
              "    .dataframe thead th {\n",
              "        text-align: right;\n",
              "    }\n",
              "</style>\n",
              "<table border=\"1\" class=\"dataframe\">\n",
              "  <thead>\n",
              "    <tr style=\"text-align: right;\">\n",
              "      <th></th>\n",
              "      <th>x</th>\n",
              "      <th>v</th>\n",
              "      <th>a</th>\n",
              "    </tr>\n",
              "  </thead>\n",
              "  <tbody>\n",
              "    <tr>\n",
              "      <th>u</th>\n",
              "      <td>-0.340438</td>\n",
              "      <td>-1.30012</td>\n",
              "      <td>-1.950117</td>\n",
              "    </tr>\n",
              "  </tbody>\n",
              "</table>\n",
              "</div>"
            ],
            "text/plain": [
              "          x        v         a\n",
              "u -0.340438 -1.30012 -1.950117"
            ]
          },
          "metadata": {},
          "output_type": "display_data"
        }
      ],
      "source": [
        "# YOUR CHANGES HERE\n",
        "\n",
        "out_df = pd.DataFrame([[\"index\"] + state_cols])\n",
        "for rname in row_labels:\n",
        "    out_df = pd.concat([out_df, pd.DataFrame([[rname] + list(K_actual_df.loc[rname].values)])], ignore_index=True)\n",
        "\n",
        "out_df.to_csv(\"control-K-actual.tsv\", sep=\"\\t\", header=False, index=False)\n",
        "print('Saved \"control-K-actual.tsv\"')\n",
        "display(K_actual_df)"
      ]
    },
    {
      "cell_type": "markdown",
      "metadata": {
        "id": "EFmODg3W3D2u"
      },
      "source": [
        "Submit \"control-k-actual.tsv\" in Gradescope."
      ]
    },
    {
      "cell_type": "markdown",
      "metadata": {
        "id": "wSuXyz6LAYjK"
      },
      "source": [
        "## Part 4: Recompute the System Dynamics from the Log Data\n",
        "\n",
        "On further investigation, it turns out that the control matrix $\\mathbf{K}$ in the prototype was modified to compensate for state prediction errors.\n",
        "You would like to recompute the $\\mathbf{A}$ and $\\mathbf{B}$ matrices using the log data since they are used to predict the next states.\n",
        "However, since the action vector $\\mathbf{u}_t$ is linearly dependent on the state via $\\mathbf{u}_t=-\\mathbf{K} \\mathbf{x}_t$, you need a new data set so you can separate the effects of the $\\mathbf{A}$ and $\\mathbf{B}$ matrices.\n",
        "Your co-workers kindly provide a new file \"qc-train.tsv\" where noise was added to each action.\n",
        "Estimate the true $\\mathbf{A}$ and $\\mathbf{B}$ matrices based on this file."
      ]
    },
    {
      "cell_type": "code",
      "execution_count": 14,
      "metadata": {
        "id": "13UYre915olG"
      },
      "outputs": [],
      "source": [
        "# YOUR CHANGES HERE\n",
        "\n",
        "import numpy as np\n",
        "import pandas as pd\n",
        "import os\n",
        "\n",
        "def load_labeled_tsv(path):\n",
        "    df = pd.read_csv(path, sep=\"\\t\", header=None)\n",
        "    numeric = df.iloc[1:, 1:].astype(float).to_numpy()\n",
        "    col_labels = df.iloc[0, 1:].tolist()\n",
        "    row_labels = df.iloc[1:, 0].tolist()\n",
        "    return numeric, col_labels, row_labels\n",
        "\n",
        "def save_labeled_matrix(path, M, row_labels, col_labels, float_fmt=\"%.12f\"):\n",
        "    cols = [\"index\"] + col_labels                   # shared column names\n",
        "    header = pd.DataFrame([[\"index\"] + col_labels], columns=cols)\n",
        "    body = pd.DataFrame(M, columns=col_labels)\n",
        "    body.insert(0, \"index\", row_labels)\n",
        "    out = pd.concat([header, body], ignore_index=True)\n",
        "    out.to_csv(path, sep=\"\\t\", header=False, index=False,\n",
        "               float_format=float_fmt, lineterminator=\"\\n\", encoding=\"utf-8\")\n",
        "\n",
        "_, state_cols, state_rows = load_labeled_tsv(\"model-A.tsv\")   # states (e.g., ['x','v','a'])\n",
        "_, input_cols, _          = load_labeled_tsv(\"model-B.tsv\")   # inputs (e.g., ['u'])\n"
      ]
    },
    {
      "cell_type": "code",
      "execution_count": 15,
      "metadata": {},
      "outputs": [],
      "source": [
        "# Load the training log with noisy actions\n",
        "train = pd.read_csv(\"qc-train.tsv\", sep=\"\\t\")\n",
        "assert all(c in train.columns for c in state_cols + input_cols), \\\n",
        "    f\"qc-train.tsv must contain columns: {state_cols + input_cols}\"\n",
        "\n",
        "# Build regression: x_{t+1} = A x_t + B u_t + noise\n",
        "X_t   = train[state_cols].to_numpy()[:-1, :]   # (T-1, n)\n",
        "X_tp1 = train[state_cols].to_numpy()[1:, :]    # (T-1, n)\n",
        "U_t   = train[input_cols].to_numpy()[:-1, :]   # (T-1, m)\n",
        "\n",
        "Z = np.hstack([X_t, U_t])    # (T-1, n+m)\n",
        "Y = X_tp1                    # (T-1, n)\n",
        "\n",
        "# Solve least squares WITHOUT intercept: Y ≈ Z @ Theta\n",
        "#    Theta stacks A and B column-wise: Theta = [A^T; B^T] with shape (n+m, n)\n",
        "Theta, *_ = np.linalg.lstsq(Z, Y, rcond=None)\n",
        "\n",
        "n, m = len(state_cols), len(input_cols)\n",
        "A_new = Theta[:n, :].T       # (n, n)\n",
        "B_new = Theta[n:, :].T       # (n, m)"
      ]
    },
    {
      "cell_type": "markdown",
      "metadata": {
        "id": "_Sxidkjb5phM"
      },
      "source": [
        "Save $\\mathbf{A}$ and $\\mathbf{B}$ to \"model-A-new.tsv\" and \"model-B-new.tsv\" respectively."
      ]
    },
    {
      "cell_type": "code",
      "execution_count": 16,
      "metadata": {
        "id": "LzcREdX_5pFS"
      },
      "outputs": [
        {
          "name": "stdout",
          "output_type": "stream",
          "text": [
            "Saved \"model-A-new.tsv\" and \"model-B-new.tsv\"\n",
            "    0                      1                     2                     3\n",
            "index                      x                     v                     a\n",
            "    x     1.0000000000000016    1.1000000000000032 2.886579864025407e-15\n",
            "    v -1.281954983795886e-16    0.9000000000000001    0.9499999999999982\n",
            "    a -9.313780314509612e-17 5.551115123125783e-16    1.0999999999999999\n",
            "    0                       1\n",
            "index                       u\n",
            "    x -1.1102230246251565e-16\n",
            "    v    -0.01000000000000062\n",
            "    a                     0.9\n"
          ]
        }
      ],
      "source": [
        "# YOUR CHANGES HERE\n",
        "\n",
        "save_labeled_matrix(\"model-A-new.tsv\", A_new, state_rows, state_cols)\n",
        "save_labeled_matrix(\"model-B-new.tsv\", B_new, state_rows, input_cols)\n",
        "print('Saved \"model-A-new.tsv\" and \"model-B-new.tsv\"')\n",
        "\n",
        "print(pd.read_csv(\"model-A-new.tsv\", sep=\"\\t\", header=None).head().to_string(index=False))\n",
        "print(pd.read_csv(\"model-B-new.tsv\", sep=\"\\t\", header=None).head().to_string(index=False))"
      ]
    },
    {
      "cell_type": "markdown",
      "metadata": {
        "id": "UNkBsDgD5vIn"
      },
      "source": [
        "Submit \"model-A-new.tsv\" and \"model-B-new.tsv\" in Gradescope."
      ]
    },
    {
      "cell_type": "markdown",
      "metadata": {
        "id": "smsTLuFcvR-I"
      },
      "source": [
        "## Part 5: Code\n",
        "\n",
        "Please submit a Jupyter notebook that can reproduce all your calculations and recreate the previously submitted files.\n",
        "You do not need to provide code for data collection if you did that by manually."
      ]
    },
    {
      "cell_type": "markdown",
      "metadata": {
        "id": "zi8lV2pbvWMs"
      },
      "source": [
        "## Part 6: Acknowledgements\n",
        "\n",
        "If you discussed this assignment with anyone, please acknowledge them here.\n",
        "If you did this assignment completely on your own, simply write none below.\n",
        "\n",
        "If you used any libraries not mentioned in this module's content, please list them with a brief explanation what you used them for. If you did not use any other libraries, simply write none below.\n",
        "\n",
        "If you used any generative AI tools, please add links to your transcripts below, and any other information that you feel is necessary to comply with the generative AI policy. If you did not use any generative AI tools, simply write none below."
      ]
    }
  ],
  "metadata": {
    "colab": {
      "toc_visible": false
    },
    "kernelspec": {
      "display_name": "Python 3",
      "name": "python3"
    },
    "language_info": {
      "codemirror_mode": {
        "name": "ipython",
        "version": 3
      },
      "file_extension": ".py",
      "mimetype": "text/x-python",
      "name": "python",
      "nbconvert_exporter": "python",
      "pygments_lexer": "ipython3",
      "version": "3.12.1"
    }
  },
  "nbformat": 4,
  "nbformat_minor": 0
}
